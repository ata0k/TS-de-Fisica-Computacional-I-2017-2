{
 "cells": [
  {
   "cell_type": "markdown",
   "metadata": {},
   "source": [
    "# Modelando cáncer\n",
    "\n",
    "El crecimiento de los tejidos celulares está determinado por básicamente 3 factores: 1) La presión de turgencia de las células, 2) la duración del ciclo celular y 3) las hormonas de crecimiento. Como modular el ciclo celular dependiendo de la presión de turgencia y otros factores externos (hormonas y otros químicas) está de alguna forma está contenido en el DNA. El problema del cáncer es que por alguna razón estas cadenas de DNA se dañan y las células dejan de morir, pero no dejan de reproducirse.  \n",
    "\n",
    "Para estudiar la difusión de células cancerígenas en un tejido celular, se tienen que poner entonces estas reglas. Inicialmente todas las células excepto una tienen la información genética correctamente, por lo que se dividen y mueren dependiendo de la presión que reciben debido a las células que le rodean, por otro lado, hay una célula (la cual tiene que guardar la información de ser cancerígena cada vez que se divida), que no muere, sólo se reproduce. Esto generará una difusión efectiva de las células cancerígenas, pues en promedio el tumor se va expandiendo, aunque el resto del tegido no. \n",
    "\n",
    "Para poder plantear como se modula la reproducción celular en un modelo matemático-computacional, necesitamos hacer algunas premisas. \n",
    "\n",
    "1) Las células se parecen a una celda de Voronoi. \n",
    "2) El campo físico macroscópico de tensiones, que está en todas las células del tejido, se puede expresar en la forma tradicional como un campo elástico, donde las posiciones y las velocidades de las células se comportan como funciones armónicas. De esta forma, **las tensiones se representan mediante una función de esfuerzo mecánico**, y la presión que ejerce el tejido mediante una energía libre armónica. Las fuerzas locales derivadas de la naturaleza simplástica de los tejidos celulares se puede expresar mediante los estados de energía mínima local, que representan un estado de equilibrio donde no hay fuerzas mecánicas aparentes que actuen entre las paredes de las células y otros elementos del sistema. \n",
    "3) El transporte, degradación y proliferación de hormonas de crecimiento depende del campo elástico. \n",
    "4) La división celular depende de las hormonas de crecimiento. \n",
    "\n",
    "## Paso 1: Polígonos de Voronoi\n",
    "\n",
    "Entonces, para poder modelar un tejido celular y un tumor, lo primero que necesitamos es poder generar polígonos de Voronoi. \n",
    "\n",
    "[1] Investigar qué son los polígonos de Voronoi y hacer un programa que los produzca (o aprender a usar alguna paquetería que los produzca). \n",
    "\n",
    "[2] Hacer una funcion (o buscar una) que calcule el área de cada polígono de Voronoi. \n",
    "\n",
    "[3] Hacer una función que calcule el centro de masas de un polígono de Voronoi. "
   ]
  },
  {
   "cell_type": "markdown",
   "metadata": {},
   "source": [
    "## Paso 2: Modelo de fuerzas entre células. \n",
    "\n",
    "Como segundo paso es necesario dar una buena forma para describir las fuerzas entre las células.  Las paredes celulares son membranas constituidas principalmente de lípidos, por lo que se parecen bastante a membranas de latex. Dentro están llenas básicamente de agua, así que un buen modelo de células es un montón de globos llenos de agua. El potencial de algo así se parece bastante a un potencial armónico que depende del área de contacto de cada célula. Si llamamos $A_p = \\sum A_i /N$ al área promedio de contacto (en un arreglo hexagonal en el caso 2D y en un honycomb en el caso 3D) y llamemos $\\vec{r_{0,i}}$ el centro de masas del polígono $i$, entonces el potencial estará dado por: \n",
    "\n",
    "$V(\\vec{r_i}, t) = K_1 (A_i(t)-A_p(t))^2 + K_2 (\\vec{r_i}(t) - \\vec{r_{o,i}}(t))^2$\n",
    "\n",
    "Si tenemos el potencial, podemos calcular el movimiento de las partículas del tejido. \n",
    "\n",
    "[4] Estimar la fuerza debido a la presión de las células. \n",
    "\n",
    "La fuerza con la que se mueve cada partícula en realidad tiene que ser disipativo, por lo que al gradiente del potencial hay que restarle una constante (pequeña) multiplicada por la velocidad de la célula en cuestión.\n",
    "\n",
    "[5] Agrega esa fuerza disipativa a tu ecuación de movimiento. \n",
    "\n",
    "[6] Resuelve las ecuaciones utilizando algún buen método (por ejemplo Runge Kutta). Para el caso donde las células están confinadas a un área dada (por ejemplo un cuadrado). "
   ]
  },
  {
   "cell_type": "markdown",
   "metadata": {},
   "source": [
    "## Paso 3: Diferenciación celular\n"
   ]
  },
  {
   "cell_type": "markdown",
   "metadata": {},
   "source": [
    "## Paso 4: Células cancerígenas"
   ]
  },
  {
   "cell_type": "markdown",
   "metadata": {
    "collapsed": true
   },
   "source": [
    "Link de tesis doctoral para comprender los primeros pasos. \n",
    "\n",
    "http://132.248.9.195/ptd2016/agosto/300198580/Index.html"
   ]
  },
  {
   "cell_type": "code",
   "execution_count": null,
   "metadata": {
    "collapsed": true
   },
   "outputs": [],
   "source": []
  }
 ],
 "metadata": {
  "kernelspec": {
   "display_name": "Julia 0.4.2",
   "language": "julia",
   "name": "julia-0.4"
  },
  "language_info": {
   "file_extension": ".jl",
   "mimetype": "application/julia",
   "name": "julia",
   "version": "0.4.6"
  }
 },
 "nbformat": 4,
 "nbformat_minor": 0
}
