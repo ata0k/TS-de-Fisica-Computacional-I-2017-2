{
 "cells": [
  {
   "cell_type": "markdown",
   "metadata": {},
   "source": [
    "# Distribución de animales. \n",
    "\n",
    "La cantidad de especies que tienen un tamaño (masa) pequeño, es mayor que el número de especies de una masa grande. Esto se ha documentado para una gran cantidad de géneros violándose en muy pocos casos. \n",
    "\n",
    "Además, la tasa de reproducción de los animales pequeños suele ser también mayor que la de los animales grandes, por lo que efectivamente, en cantidad de especímenes, hay muchos más animales pequeños que grandes; Sin embargo, la media en el tamaño de los animales no ha sido una constante en el tiempo y alcanzó tamaños en extremos grandes durante el Jurácico (en la época de los dinosaurios). Las distribuciones de tamaños en esa época eran bastante diferentes y no se entiende porque. \n",
    "\n",
    "Pensemos en una región, por ejemplo una isla. Esta isla, la podemos subdibidir en pequeñas sub-regiones, todas del mismo tamaño. Llamemos patches a estas subregiones. Por lo general, un animal nace en un patche y se reproduce (muere) en otro. Además, a lo largo del tiempo, podemos suponer que tenemos una población promedio constante. Si fuera una población creciente, en algún momento se volvería plaga y carecería de alimento, por lo que se tendría que volver decreciente otra vez. Si seguimos el modelo depredador presa, vemos que se obtienen oscilaciones de las poblaciones de los animales a lo largo del tiempo, pero haciendo un promedio sobre tiempos suficientemente largo, las poblaciones permanecen más o menos constantes. \n",
    "\n",
    "Simplificamos entonces nuestro modelo a pensar que las poblaciones de animales de cada especie están conformadas por animales \"inmortales\"(en promedio, cada animal que muere es remplazado por uno que nace para que la población se mantenga) que se mueven de un patche a otro. La razón con la que se moverán dependerá de la tasa de reproducción. \n",
    "\n",
    "Por otra parte, la tasa de reproducción, depende del tamaño de los animales y va como $q \\sim 1/m^{1/4}$, donde $m$ es la masa del animal. A su vez, la masa de cada animal depende de su longitud y es aproximadamente $m \\sim s^3$, por lo que $q \\sim 1/s^{3/4}$, aquí $s$ es su diámetro promedio. Si pensamos que cada vez que se reproduce un animal sus crías se mudan de patche, podemos pensar en la tasa de reproducción como un flujo de animales de un patche a otro. Si $q$ es la proporción de animales de un determinado tamaño que se mudan de patch en un tiempo fijo, entonces si dos patches vecinos distan una determinada cantidad, la cantidad $q$ se puede ver como un flujo de migración de animales de un patche a otro, o bien, como la velocidad \"instantanea\" (considerando escalas de tiempo macroscópicas de miles de años) de los animales. Así, en promedio, cada animal lleva consigo una energía cinética promedio de $\\frac{1}{2} m_i q_i ^2 \\sim \\frac{1}{2} s_i ^{3/2}$. Además, podemos pensar que cada reproducción cuesta una energía extra (desperdiciada), es decir, la energía total $E \\sim \\frac{1}{2} s_i ^{3/2}-constante$. \n",
    "\n",
    "Finalmente, si suponemos que entre diferentes animales la interacción es relativamente poca, en el sentido de que la presencia de un animal no obliga a otro animal a modarse de patche, entonces podemos aproximar la distribución de energías, con la distribución de Boltzman y así, obtener una distribución de tamaños. Dicha distribución ajusta bien a los datos medidos experimentalmente en muchos casos, sin embargo no siempre. Para esto queremos hacer un modelo que considere la competencia por un patche. \n"
   ]
  },
  {
   "cell_type": "markdown",
   "metadata": {},
   "source": [
    "[1] Deriba la distribución de tamaños a partir de la distribución de Boltzmann de las energías. \n",
    "\n",
    "La distribución de [1] deja de ser funcional en el caso de estar en un límite donde las partículas luchan por un espacio. Para esto haremos un modelo que calcule la nueva distribución. Considera una red cuadrada de $n \\times n$.\n",
    "\n",
    "[2] Haz una función que tome la distribución deribada en [1] para poner N partículas en la red de $n \\times n$.\n",
    "\n",
    "[3] Haz una función que calcule la probabilidad de moverse a un punto de la red vecino como función del tamaño del animal. \n",
    "\n",
    "[4] Consideremos que cada animal ocupa un espacio proporcional a su volumen. Haz una función del area total ocupada por los animales en un patche y el área de un animal dado, que regrese 1 si el área no sobrepasa el área del patche y 0 si sí lo hace. El área que ocupa un animal debe ser proporcional a $s^2$, pero no necesariamente igual. La constante de proporcionalidad la debe dar el usuario. \n",
    "\n",
    "[5] Aplica las funciones de [3] y [4] para evolucionar el sistema. Seleccionas un animal aleatoriamente y lo mueves de patche con probabilidad calculada con [3]. Si al moverlo obtienes con la función [4] $1$, dejas al animal en su nueva posición. Sino, lo regresas a su posición previo al movimiento. Este proceso lo aplicas suficientes veces, como para asegurar que ningún patche está sobre poblado, sino que está bien distribuido. \n",
    "\n",
    "[6] Haz una función que reproduzca a algún animal aleatoriamente, es decir, que dada la configuración de animales y posiciones en la \"isla\", seleccione uno aleatoriamente y lo duplique con probabilidad $q_i$ (que depende de su tamaño), poniendo dos animales iguales en el mismo patche. Si al reproducirse el animal el area ocupada del patche supera el area del patche mismo, entonces migras aleatoriamente a uno de los animales reproducidos. Si al migrar la función en [4] da 0, \"matas\" al animal, en otro caso, lo dejas en su nueva posición. \n",
    "\n",
    "[7] Evoluciona el sistema aplicando iterativamente el [6], hasta que la proporción de animales exterminados sea casi 1. \n",
    "\n",
    "[8] Mide la distribución de tamaños que ahora se obtiene. "
   ]
  },
  {
   "cell_type": "markdown",
   "metadata": {},
   "source": [
    "Tienes que leer sobre algorithmo de metrópolis, métodos de Monte Carlo, distribución de tamaños (body size distribution) en animales. En particular, es necesario que leas este artículo: \n",
    "\n",
    "http://www.pnas.org/content/110/1/205.full\n",
    "\n",
    "De ser posible, intentes reproducirlo."
   ]
  }
 ],
 "metadata": {
  "kernelspec": {
   "display_name": "Julia 0.4.2",
   "language": "julia",
   "name": "julia-0.4"
  },
  "language_info": {
   "file_extension": ".jl",
   "mimetype": "application/julia",
   "name": "julia",
   "version": "0.4.6"
  }
 },
 "nbformat": 4,
 "nbformat_minor": 0
}
